{
 "cells": [
  {
   "cell_type": "markdown",
   "metadata": {},
   "source": [
    "# Implementación de un algoritmo evolutivo para resolver el problema del sudoku\n"
   ]
  },
  {
   "cell_type": "markdown",
   "metadata": {},
   "source": [
    "El primer paso consiste en leer la matriz de 9x9 de un archivo .csv"
   ]
  },
  {
   "cell_type": "code",
   "execution_count": null,
   "metadata": {},
   "outputs": [],
   "source": [
    "import pandas\n",
    "sudoku = pandas.read_csv('sudoku.csv',header=None).values\n",
    "print(sudoku)"
   ]
  },
  {
   "cell_type": "markdown",
   "metadata": {},
   "source": [
    "El siguiente paso consiste en calcular los números faltantes en cada renglón"
   ]
  },
  {
   "cell_type": "code",
   "execution_count": null,
   "metadata": {},
   "outputs": [],
   "source": [
    "import numpy as np\n",
    "nums = np.arange(10) # Arreglo con los números del 0 al 9\n",
    "print(nums)\n",
    "print(sudoku[0])"
   ]
  },
  {
   "cell_type": "code",
   "execution_count": null,
   "metadata": {},
   "outputs": [],
   "source": [
    "nums = set(nums)     # Convertir a set\n",
    "sr = set(sudoku[0])  # Convertir a set\n",
    "missing_nums= nums.difference(sr) # Diferencia de conjuntos\n",
    "print(missing_nums)"
   ]
  },
  {
   "cell_type": "code",
   "execution_count": null,
   "metadata": {},
   "outputs": [],
   "source": [
    "# Calcular los números faltantes en cada uno de los renglones\n",
    "nums = set(np.arange(10))\n",
    "missing_nums = []\n",
    "for i in range(9):\n",
    "    sr = set(sudoku[i])\n",
    "    missing_nums.append( list(nums.difference(sr)) )\n",
    "print(missing_nums)"
   ]
  },
  {
   "cell_type": "markdown",
   "metadata": {},
   "source": [
    "### Creación aleatoria de invidiuos \n",
    "Cada individuo se genera como una permutación aleatoria de los números faltantes"
   ]
  },
  {
   "cell_type": "code",
   "execution_count": null,
   "metadata": {},
   "outputs": [],
   "source": [
    "ind = []\n",
    "for mn in missing_nums:\n",
    "    mnind = np.copy(mn)\n",
    "    np.random.shuffle(mnind) \n",
    "    ind.append(mnind)\n",
    "print(ind)"
   ]
  },
  {
   "cell_type": "code",
   "execution_count": null,
   "metadata": {},
   "outputs": [],
   "source": [
    "def create_new_individual(missing_nums):\n",
    "    ind = []\n",
    "    for mn in missing_nums:\n",
    "        mnind = np.copy(mn)\n",
    "        np.random.shuffle(mnind)\n",
    "        ind.append(mnind)\n",
    "    return ind\n",
    "ind = create_new_individual(missing_nums)\n",
    "print(ind)"
   ]
  },
  {
   "cell_type": "code",
   "execution_count": null,
   "metadata": {},
   "outputs": [],
   "source": [
    "# Crear una copia de la matriz sudoku para crear una matriz del individuo\n",
    "mind = np.copy(sudoku)\n",
    "print(mind[0,:])\n",
    "print(mind[0,:]==0) # Las casillas que son 0 en el primer renglón"
   ]
  },
  {
   "cell_type": "code",
   "execution_count": null,
   "metadata": {},
   "outputs": [],
   "source": [
    "mind = np.copy(sudoku)\n",
    "idx = mind[0,:]==0\n",
    "mind[0,idx] = ind[0] # Remplazar los 0's con los valores del individuo\n",
    "print('ind')\n",
    "print(ind[0])\n",
    "print('mind')\n",
    "print(mind)"
   ]
  },
  {
   "cell_type": "code",
   "execution_count": null,
   "metadata": {},
   "outputs": [],
   "source": [
    "# Calcular la matriz del sudoku poniendo los valores del individuo\n",
    "def calculate_individual_matrix(ind):\n",
    "    mind = np.copy(sudoku)\n",
    "    for i in range(9):\n",
    "        idx = sudoku[i, :]==0\n",
    "        mind[i, idx] = ind[i]\n",
    "    return mind\n",
    "ind = create_new_individual(missing_nums)\n",
    "mind = calculate_individual_matrix(ind)\n",
    "print('sudoku')\n",
    "print(sudoku)\n",
    "print('ind')\n",
    "print(ind)\n",
    "print('mind')\n",
    "print(mind)"
   ]
  },
  {
   "cell_type": "code",
   "execution_count": null,
   "metadata": {},
   "outputs": [],
   "source": [
    "def print_individual(ind):\n",
    "    mind = calculate_individual_matrix(ind)\n",
    "    s = ''\n",
    "    for i in range(9):\n",
    "        for j in range(9):\n",
    "            s+= '|'+str(mind[i,j]) if j%3==0 else ' '+str(mind[i,j])\n",
    "        s += '\\n'\n",
    "        if (i+1)%3==0 and i<8:\n",
    "            s+= '------------------\\n'\n",
    "    print(s)\n",
    "ind = create_new_individual(missing_nums)\n",
    "print_individual(ind)"
   ]
  },
  {
   "cell_type": "markdown",
   "metadata": {},
   "source": [
    "### Cálculo de la aptitud (fitness)\n",
    "La aptitud de un individuo se calcula a partir del número de errores (números duplicados) en los cuadrantes y en las columnas. Las filas no se toman en cuenta porque por definición los individuos son representados como permutaciones de los números faltantes en las filas."
   ]
  },
  {
   "cell_type": "code",
   "execution_count": null,
   "metadata": {},
   "outputs": [],
   "source": [
    "# Imprimir la lista de los números únicos del primer renglón\n",
    "ind = create_new_individual(missing_nums)\n",
    "mind = calculate_individual_matrix(ind)\n",
    "print(mind)\n",
    "print(np.unique(mind[:,0]))"
   ]
  },
  {
   "cell_type": "code",
   "execution_count": null,
   "metadata": {},
   "outputs": [],
   "source": [
    "# Calcular el número de valores que faltan, igual al número de valores que se repiten\n",
    "9-len(np.unique(mind[:,0]))"
   ]
  },
  {
   "cell_type": "code",
   "execution_count": null,
   "metadata": {},
   "outputs": [],
   "source": [
    "# Errores en las columnas\n",
    "fit = 0\n",
    "for c in range(9):\n",
    "    fit += 9-len(np.unique(mind[:,c]))\n",
    "print(fit)"
   ]
  },
  {
   "cell_type": "code",
   "execution_count": null,
   "metadata": {},
   "outputs": [],
   "source": [
    "# Obtener un cuadrante de la matriz\n",
    "print( mind )\n",
    "r = 0\n",
    "c = 0\n",
    "print( mind [r*3:r*3+3,c*3:c*3+3] )"
   ]
  },
  {
   "cell_type": "code",
   "execution_count": null,
   "metadata": {},
   "outputs": [],
   "source": [
    "# Errores en los cuadrantes\n",
    "fit = 0\n",
    "for r in range(3):\n",
    "    for c in range(3):\n",
    "        nums = np.unique( np.reshape(mind[r*3:r*3+3,c*3:c*3+3],(9)) )\n",
    "        fit += 9 - len(nums)\n",
    "print(fit)"
   ]
  },
  {
   "cell_type": "code",
   "execution_count": null,
   "metadata": {},
   "outputs": [],
   "source": [
    "def calculate_individual_fitness(ind):\n",
    "    fit = 0\n",
    "    mind = calculate_individual_matrix(ind)\n",
    "    for c in range(9):\n",
    "        fit += 9-len(np.unique(mind[:,c]))\n",
    "    for r in range(3):\n",
    "        for c in range(3):\n",
    "            nums = np.unique( np.reshape(mind[r*3:r*3+3,c*3:c*3+3],(9)) )\n",
    "            fit += 9 - len(nums)\n",
    "    return fit\n",
    "fit = calculate_individual_fitness(ind)\n",
    "print(fit)"
   ]
  },
  {
   "cell_type": "markdown",
   "metadata": {},
   "source": [
    "### Reproducción\n",
    "La reproducción tiene el objetivo de mezclar las características de dos padres. \n",
    "En este caso utilizaremos la metodología punto de cruza descrito en el aula virtual"
   ]
  },
  {
   "cell_type": "code",
   "execution_count": null,
   "metadata": {},
   "outputs": [],
   "source": [
    "p1 = create_new_individual(missing_nums)\n",
    "p2 = create_new_individual(missing_nums)\n",
    "print(p1)\n",
    "print(p2)"
   ]
  },
  {
   "cell_type": "code",
   "execution_count": null,
   "metadata": {},
   "outputs": [],
   "source": [
    "# Punto de cruza aleatorio\n",
    "c = np.random.randint(1, 8)\n",
    "print(c)"
   ]
  },
  {
   "cell_type": "code",
   "execution_count": null,
   "metadata": {},
   "outputs": [],
   "source": [
    "def crossover(p1,p2):\n",
    "    o = []\n",
    "    c = np.random.randint(1, 8)\n",
    "    for i in range(0,c):\n",
    "        o.append( np.copy(p1[i]) )\n",
    "    for i in range(c,9):\n",
    "        o.append( np.copy(p2[i]) )\n",
    "    return o\n",
    "o = crossover(p1,p2)\n",
    "print(o)"
   ]
  },
  {
   "cell_type": "markdown",
   "metadata": {},
   "source": [
    "### Mutación\n",
    "La mutación tiene el objetivo de variar un poco un individuo. En este caso lo que haremos es elegir al azar uno de los renglones del individuo, después, también de forma aleatoria, seleccionar dos números faltantes, y lo que se realizará es intercambiar sus posiciones"
   ]
  },
  {
   "cell_type": "code",
   "execution_count": null,
   "metadata": {},
   "outputs": [],
   "source": [
    "ind = create_new_individual(missing_nums)\n",
    "r = np.random.randint(9)\n",
    "n1 = np.random.randint(len(ind[r]))\n",
    "n2 = np.random.randint(len(ind[r]))\n",
    "print('ind',ind)\n",
    "print('r:',r,'n1:',ind[r][n1],'n2:',ind[r][n2])"
   ]
  },
  {
   "cell_type": "code",
   "execution_count": null,
   "metadata": {},
   "outputs": [],
   "source": [
    "def mutation(ind):\n",
    "    r = np.random.randint(9)\n",
    "    n1 = np.random.randint(len(ind[r]))\n",
    "    n2 = np.random.randint(len(ind[r]))\n",
    "    ind[r][n1], ind[r][n2] = ind[r][n2], ind[r][n1]\n",
    "    print('r:',r,'n1:',ind[r][n1],'n2:',ind[r][n2])\n",
    "    return ind\n",
    "print(ind)\n",
    "ind = mutation(ind)\n",
    "print(ind)"
   ]
  },
  {
   "cell_type": "markdown",
   "metadata": {},
   "source": [
    "### Evolución\n",
    "Finalmente, hay que unir todas las piezas de código "
   ]
  },
  {
   "cell_type": "code",
   "execution_count": null,
   "metadata": {},
   "outputs": [],
   "source": [
    "# Parámetros\n",
    "N = 100    # tamaño de la población\n",
    "Pc = 0.7   # probabilidad de cruza\n",
    "Pm = 0.3   # probabilidad de mutación\n",
    "G = 1000   # número de generaciones\n",
    "\n",
    "# Leer el archivo\n",
    "sudoku = pandas.read_csv(file, header=None).values\n",
    "\n",
    "# Proceso evolutivo\n",
    "population = init_population(sudoku,N)\n",
    "fitness = calculate_fitness(population)\n",
    "ind_elite, fit_elite = elite(population,fitness)\n",
    "\n",
    "g = 0\n",
    "print('Generation:',g,' fitness:',fit_elite)\n",
    "while fit_elite>0 and g<G:\n",
    "    population = selection(population,fitness)\n",
    "    population = crossover(population,Pc)\n",
    "    population = mutation(population,Pm)\n",
    "    fitness = calculate_fitness(population)\n",
    "    population, fitness, ind_elite, fit_elite = elite(population,fitness,ind_elite,fit_elite)\n",
    "    g+=1\n",
    "    if g%10==0:\n",
    "        print('Generation:',g,' fitness:',fit_elite)\n",
    "print('Generation:',g,' fitness:',fit_elite)\n",
    "print_individual(ind_elite)"
   ]
  },
  {
   "cell_type": "markdown",
   "metadata": {},
   "source": [
    "init_population: Crea una población de N individuos aleatorios, population es una lista de individuos."
   ]
  },
  {
   "cell_type": "markdown",
   "metadata": {},
   "source": [
    "calculate_fitness: Calcula la aptitud (fitness) de todos los individuos en la población y regresa un arreglo con el fitness de todos los individuos"
   ]
  },
  {
   "cell_type": "markdown",
   "metadata": {},
   "source": [
    "elite: Encuentra y guarda una copia del mejor individuo de la población. \n",
    "Si aún no hay ningún individuo elite (primera vez que se manda llamar), sólo regresa el individuo elite y su aptitud.\n",
    "Si ya hay un individuo elite hace lo siguiente. Si el mejor individuo en la población actual es mejor que el individuo elite, entonces el individuo elite y su fitness son actualizados. En otro caso, el individuo elite reemplaza a un individuo, seleccionado de forma aleatoria, de la población. "
   ]
  },
  {
   "cell_type": "markdown",
   "metadata": {},
   "source": [
    "selection: Recibe como parámetro la población y el arreglo de aptitudes; y regresa una nueva población de individuos aptos. Cada individuo en la nueva población es seleccionado utilizando torneo binario, es decir, dos individuos de la población anterior son seleccionados de forma aleatoria y el mejor de los dos es seleccionado para formar parte de la nueva población. El tamaño de la población nueva es del mismo tamaño que la población anterior."
   ]
  },
  {
   "cell_type": "markdown",
   "metadata": {},
   "source": [
    "crossover: Recibe como parámetro la población de individuos seleccionados y la probabilidad de cruza; y regresa una nueva población de individuos hijos. Los individuos de la nueva población son creados uno por uno como sigue. Primero, se genera un número aleatorio del 0 al 1. Si el número es menor o igual a la probabilidad de cruza, entonces el individuo nuevo es producto de la cruza de dos individuos seleccionados al azar de la población de individuos seleccionados. Si el número no es menor o igual a Pc, entonces el nuevo individuo es una copia de un individuo seleccionado al azar. "
   ]
  },
  {
   "cell_type": "markdown",
   "metadata": {},
   "source": [
    "mutation: Recibe como parámetro la población de individuos y la probabilidad de mutación; y regresa una nueva población de individuos. Los individuos de la nueva población son mutados uno por uno como sigue. Primero, se genera un número aleatorio del 0 al 1. Si el número es menor o igual a la probabilidad de mutación, entonces el individuo es mutado, si no, el individuo no se modifica."
   ]
  }
 ],
 "metadata": {
  "kernelspec": {
   "display_name": "Python 3",
   "language": "python",
   "name": "python3"
  },
  "language_info": {
   "codemirror_mode": {
    "name": "ipython",
    "version": 3
   },
   "file_extension": ".py",
   "mimetype": "text/x-python",
   "name": "python",
   "nbconvert_exporter": "python",
   "pygments_lexer": "ipython3",
   "version": "3.7.3"
  }
 },
 "nbformat": 4,
 "nbformat_minor": 2
}
