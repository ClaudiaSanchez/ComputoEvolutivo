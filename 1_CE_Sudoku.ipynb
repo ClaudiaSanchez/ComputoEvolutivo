{
 "cells": [
  {
   "cell_type": "markdown",
   "metadata": {},
   "source": [
    "# Implementación de un algoritmo evolutivo para resolver el problema del sudoku\n"
   ]
  },
  {
   "cell_type": "markdown",
   "metadata": {},
   "source": [
    "El primer paso consiste en leer la matriz de 9x9 de un archivo .csv"
   ]
  },
  {
   "cell_type": "code",
   "execution_count": 1,
   "metadata": {},
   "outputs": [
    {
     "name": "stdout",
     "output_type": "stream",
     "text": [
      "[[9 6 0 1 0 4 0 5 8]\n",
      " [0 7 8 3 2 5 6 0 9]\n",
      " [2 5 0 6 0 0 7 0 1]\n",
      " [8 0 1 4 0 7 5 0 6]\n",
      " [0 9 6 0 0 2 3 0 7]\n",
      " [7 0 5 9 6 1 0 2 4]\n",
      " [5 0 0 7 1 0 4 6 2]\n",
      " [3 1 7 2 0 6 9 0 0]\n",
      " [0 4 0 5 0 8 0 7 3]]\n"
     ]
    }
   ],
   "source": [
    "import pandas\n",
    "sudoku = pandas.read_csv('sudoku.csv',header=None).values\n",
    "print(sudoku)"
   ]
  },
  {
   "cell_type": "markdown",
   "metadata": {},
   "source": [
    "El siguiente paso consiste en calcular los números faltantes en cada renglón"
   ]
  },
  {
   "cell_type": "code",
   "execution_count": 2,
   "metadata": {},
   "outputs": [
    {
     "name": "stdout",
     "output_type": "stream",
     "text": [
      "[0 1 2 3 4 5 6 7 8 9]\n",
      "[9 6 0 1 0 4 0 5 8]\n"
     ]
    }
   ],
   "source": [
    "import numpy as np\n",
    "nums = np.arange(10) # Arreglo con los números del 0 al 9\n",
    "print(nums)\n",
    "print(sudoku[0])"
   ]
  },
  {
   "cell_type": "code",
   "execution_count": 3,
   "metadata": {},
   "outputs": [
    {
     "name": "stdout",
     "output_type": "stream",
     "text": [
      "{2, 3, 7}\n"
     ]
    }
   ],
   "source": [
    "nums = set(nums)     # Convertir a set\n",
    "sr = set(sudoku[0])  # Convertir a set\n",
    "missing_nums= nums.difference(sr) # Diferencia de conjuntos\n",
    "print(missing_nums)"
   ]
  },
  {
   "cell_type": "code",
   "execution_count": 4,
   "metadata": {},
   "outputs": [
    {
     "name": "stdout",
     "output_type": "stream",
     "text": [
      "[[2, 3, 7], [1, 4], [8, 9, 3, 4], [9, 2, 3], [8, 1, 4, 5], [8, 3], [8, 9, 3], [8, 4, 5], [1, 2, 6, 9]]\n"
     ]
    }
   ],
   "source": [
    "# Calcular los números faltantes en cada uno de los renglones\n",
    "nums = set(np.arange(10))\n",
    "missing_nums = []\n",
    "for i in range(9):\n",
    "    sr = set(sudoku[i])\n",
    "    missing_nums.append( list(nums.difference(sr)) )\n",
    "print(missing_nums)"
   ]
  },
  {
   "cell_type": "markdown",
   "metadata": {},
   "source": [
    "### Creación aleatoria de invidiuos \n",
    "Cada individuo se genera como una permutación aleatoria de los números faltantes"
   ]
  },
  {
   "cell_type": "code",
   "execution_count": 5,
   "metadata": {},
   "outputs": [
    {
     "name": "stdout",
     "output_type": "stream",
     "text": [
      "[array([3, 7, 2]), array([1, 4]), array([9, 4, 8, 3]), array([2, 9, 3]), array([4, 1, 8, 5]), array([8, 3]), array([9, 3, 8]), array([5, 8, 4]), array([9, 2, 1, 6])]\n"
     ]
    }
   ],
   "source": [
    "ind = []\n",
    "for mn in missing_nums:\n",
    "    mnind = np.copy(mn)\n",
    "    np.random.shuffle(mnind) \n",
    "    ind.append(mnind)\n",
    "print(ind)"
   ]
  },
  {
   "cell_type": "code",
   "execution_count": 6,
   "metadata": {},
   "outputs": [
    {
     "name": "stdout",
     "output_type": "stream",
     "text": [
      "[array([7, 3, 2]), array([1, 4]), array([9, 8, 3, 4]), array([3, 2, 9]), array([4, 8, 1, 5]), array([8, 3]), array([9, 8, 3]), array([5, 8, 4]), array([9, 6, 1, 2])]\n"
     ]
    }
   ],
   "source": [
    "def create_new_individual(missing_nums):\n",
    "    ind = []\n",
    "    for mn in missing_nums:\n",
    "        mnind = np.copy(mn)\n",
    "        np.random.shuffle(mnind)\n",
    "        ind.append(mnind)\n",
    "    return ind\n",
    "ind = create_new_individual(missing_nums)\n",
    "print(ind)"
   ]
  },
  {
   "cell_type": "code",
   "execution_count": 7,
   "metadata": {},
   "outputs": [
    {
     "name": "stdout",
     "output_type": "stream",
     "text": [
      "[9 6 0 1 0 4 0 5 8]\n",
      "[False False  True False  True False  True False False]\n"
     ]
    }
   ],
   "source": [
    "# Crear una copia de la matriz sudoku para crear una matriz del individuo\n",
    "mind = np.copy(sudoku)\n",
    "print(mind[0,:])\n",
    "print(mind[0,:]==0) # Las casillas que son 0 en el primer renglón"
   ]
  },
  {
   "cell_type": "code",
   "execution_count": 8,
   "metadata": {},
   "outputs": [
    {
     "name": "stdout",
     "output_type": "stream",
     "text": [
      "ind\n",
      "[7 3 2]\n",
      "mind\n",
      "[[9 6 7 1 3 4 2 5 8]\n",
      " [0 7 8 3 2 5 6 0 9]\n",
      " [2 5 0 6 0 0 7 0 1]\n",
      " [8 0 1 4 0 7 5 0 6]\n",
      " [0 9 6 0 0 2 3 0 7]\n",
      " [7 0 5 9 6 1 0 2 4]\n",
      " [5 0 0 7 1 0 4 6 2]\n",
      " [3 1 7 2 0 6 9 0 0]\n",
      " [0 4 0 5 0 8 0 7 3]]\n"
     ]
    }
   ],
   "source": [
    "mind = np.copy(sudoku)\n",
    "idx = mind[0,:]==0\n",
    "mind[0,idx] = ind[0] # Remplazar los 0's con los valores del individuo\n",
    "print('ind')\n",
    "print(ind[0])\n",
    "print('mind')\n",
    "print(mind)"
   ]
  },
  {
   "cell_type": "code",
   "execution_count": 9,
   "metadata": {},
   "outputs": [
    {
     "name": "stdout",
     "output_type": "stream",
     "text": [
      "sudoku\n",
      "[[9 6 0 1 0 4 0 5 8]\n",
      " [0 7 8 3 2 5 6 0 9]\n",
      " [2 5 0 6 0 0 7 0 1]\n",
      " [8 0 1 4 0 7 5 0 6]\n",
      " [0 9 6 0 0 2 3 0 7]\n",
      " [7 0 5 9 6 1 0 2 4]\n",
      " [5 0 0 7 1 0 4 6 2]\n",
      " [3 1 7 2 0 6 9 0 0]\n",
      " [0 4 0 5 0 8 0 7 3]]\n",
      "ind\n",
      "[array([7, 3, 2]), array([4, 1]), array([8, 3, 4, 9]), array([9, 2, 3]), array([5, 8, 4, 1]), array([8, 3]), array([3, 9, 8]), array([5, 4, 8]), array([2, 6, 1, 9])]\n",
      "mind\n",
      "[[9 6 7 1 3 4 2 5 8]\n",
      " [4 7 8 3 2 5 6 1 9]\n",
      " [2 5 8 6 3 4 7 9 1]\n",
      " [8 9 1 4 2 7 5 3 6]\n",
      " [5 9 6 8 4 2 3 1 7]\n",
      " [7 8 5 9 6 1 3 2 4]\n",
      " [5 3 9 7 1 8 4 6 2]\n",
      " [3 1 7 2 5 6 9 4 8]\n",
      " [2 4 6 5 1 8 9 7 3]]\n"
     ]
    }
   ],
   "source": [
    "# Calcular la matriz del sudoku poniendo los valores del individuo\n",
    "def calculate_individual_matrix(ind):\n",
    "    mind = np.copy(sudoku)\n",
    "    for i in range(9):\n",
    "        idx = sudoku[i, :]==0\n",
    "        mind[i, idx] = ind[i]\n",
    "    return mind\n",
    "ind = create_new_individual(missing_nums)\n",
    "mind = calculate_individual_matrix(ind)\n",
    "print('sudoku')\n",
    "print(sudoku)\n",
    "print('ind')\n",
    "print(ind)\n",
    "print('mind')\n",
    "print(mind)"
   ]
  },
  {
   "cell_type": "code",
   "execution_count": 10,
   "metadata": {},
   "outputs": [
    {
     "name": "stdout",
     "output_type": "stream",
     "text": [
      "|9 6 3|1 2 4|7 5 8\n",
      "|1 7 8|3 2 5|6 4 9\n",
      "|2 5 3|6 9 4|7 8 1\n",
      "------------------\n",
      "|8 3 1|4 2 7|5 9 6\n",
      "|8 9 6|4 5 2|3 1 7\n",
      "|7 8 5|9 6 1|3 2 4\n",
      "------------------\n",
      "|5 3 9|7 1 8|4 6 2\n",
      "|3 1 7|2 5 6|9 4 8\n",
      "|9 4 2|5 6 8|1 7 3\n",
      "\n"
     ]
    }
   ],
   "source": [
    "def print_individual(ind):\n",
    "    mind = calculate_individual_matrix(ind)\n",
    "    s = ''\n",
    "    for i in range(9):\n",
    "        for j in range(9):\n",
    "            s+= '|'+str(mind[i,j]) if j%3==0 else ' '+str(mind[i,j])\n",
    "        s += '\\n'\n",
    "        if (i+1)%3==0 and i<8:\n",
    "            s+= '------------------\\n'\n",
    "    print(s)\n",
    "ind = create_new_individual(missing_nums)\n",
    "print_individual(ind)"
   ]
  },
  {
   "cell_type": "markdown",
   "metadata": {},
   "source": [
    "### Cálculo de la aptitud (fitness)\n",
    "La aptitud de un individuo se calcula a partir del número de errores (números duplicados) en los cuadrantes y en las columnas. Las filas no se toman en cuenta porque por definición los individuos son representados como permutaciones de los números faltantes en las filas."
   ]
  },
  {
   "cell_type": "code",
   "execution_count": 11,
   "metadata": {},
   "outputs": [
    {
     "name": "stdout",
     "output_type": "stream",
     "text": [
      "[[9 6 2 1 3 4 7 5 8]\n",
      " [1 7 8 3 2 5 6 4 9]\n",
      " [2 5 8 6 3 9 7 4 1]\n",
      " [8 9 1 4 2 7 5 3 6]\n",
      " [5 9 6 1 8 2 3 4 7]\n",
      " [7 3 5 9 6 1 8 2 4]\n",
      " [5 9 3 7 1 8 4 6 2]\n",
      " [3 1 7 2 4 6 9 8 5]\n",
      " [2 4 6 5 1 8 9 7 3]]\n",
      "[1 2 3 5 7 8 9]\n"
     ]
    }
   ],
   "source": [
    "# Imprimir la lista de los números únicos del primer renglón\n",
    "ind = create_new_individual(missing_nums)\n",
    "mind = calculate_individual_matrix(ind)\n",
    "print(mind)\n",
    "print(np.unique(mind[:,0]))"
   ]
  },
  {
   "cell_type": "code",
   "execution_count": 12,
   "metadata": {},
   "outputs": [
    {
     "data": {
      "text/plain": [
       "2"
      ]
     },
     "execution_count": 12,
     "metadata": {},
     "output_type": "execute_result"
    }
   ],
   "source": [
    "# Calcular el número de valores que faltan, igual al número de valores que se repiten\n",
    "9-len(np.unique(mind[:,0]))"
   ]
  },
  {
   "cell_type": "code",
   "execution_count": 13,
   "metadata": {},
   "outputs": [
    {
     "name": "stdout",
     "output_type": "stream",
     "text": [
      "15\n"
     ]
    }
   ],
   "source": [
    "# Errores en las columnas\n",
    "fit = 0\n",
    "for c in range(9):\n",
    "    fit += 9-len(np.unique(mind[:,c]))\n",
    "print(fit)"
   ]
  },
  {
   "cell_type": "code",
   "execution_count": 14,
   "metadata": {},
   "outputs": [
    {
     "name": "stdout",
     "output_type": "stream",
     "text": [
      "[[9 6 2 1 3 4 7 5 8]\n",
      " [1 7 8 3 2 5 6 4 9]\n",
      " [2 5 8 6 3 9 7 4 1]\n",
      " [8 9 1 4 2 7 5 3 6]\n",
      " [5 9 6 1 8 2 3 4 7]\n",
      " [7 3 5 9 6 1 8 2 4]\n",
      " [5 9 3 7 1 8 4 6 2]\n",
      " [3 1 7 2 4 6 9 8 5]\n",
      " [2 4 6 5 1 8 9 7 3]]\n",
      "[[9 6 2]\n",
      " [1 7 8]\n",
      " [2 5 8]]\n"
     ]
    }
   ],
   "source": [
    "# Obtener un cuadrante de la matriz\n",
    "print( mind )\n",
    "r = 0\n",
    "c = 0\n",
    "print( mind [r*3:r*3+3,c*3:c*3+3] )"
   ]
  },
  {
   "cell_type": "code",
   "execution_count": 15,
   "metadata": {},
   "outputs": [
    {
     "name": "stdout",
     "output_type": "stream",
     "text": [
      "16\n"
     ]
    }
   ],
   "source": [
    "# Errores en los cuadrantes\n",
    "fit = 0\n",
    "for r in range(3):\n",
    "    for c in range(3):\n",
    "        nums = np.unique( np.reshape(mind[r*3:r*3+3,c*3:c*3+3],(9)) )\n",
    "        fit += 9 - len(nums)\n",
    "print(fit)"
   ]
  },
  {
   "cell_type": "code",
   "execution_count": 16,
   "metadata": {},
   "outputs": [
    {
     "name": "stdout",
     "output_type": "stream",
     "text": [
      "31\n"
     ]
    }
   ],
   "source": [
    "def calculate_individual_fitness(ind):\n",
    "    fit = 0\n",
    "    mind = calculate_individual_matrix(ind)\n",
    "    for c in range(9):\n",
    "        fit += 9-len(np.unique(mind[:,c]))\n",
    "    for r in range(3):\n",
    "        for c in range(3):\n",
    "            nums = np.unique( np.reshape(mind[r*3:r*3+3,c*3:c*3+3],(9)) )\n",
    "            fit += 9 - len(nums)\n",
    "    return fit\n",
    "fit = calculate_individual_fitness(ind)\n",
    "print(fit)"
   ]
  },
  {
   "cell_type": "markdown",
   "metadata": {},
   "source": [
    "### Reproducción\n",
    "La reproducción tiene el objetivo de mezclar las características de dos padres. \n",
    "En este caso utilizaremos la metodología punto de cruza descrito en el aula virtual"
   ]
  },
  {
   "cell_type": "code",
   "execution_count": 17,
   "metadata": {},
   "outputs": [
    {
     "name": "stdout",
     "output_type": "stream",
     "text": [
      "[array([3, 2, 7]), array([1, 4]), array([4, 8, 3, 9]), array([3, 2, 9]), array([8, 5, 4, 1]), array([3, 8]), array([3, 8, 9]), array([8, 4, 5]), array([9, 1, 2, 6])]\n",
      "[array([7, 3, 2]), array([4, 1]), array([3, 4, 8, 9]), array([2, 9, 3]), array([1, 4, 8, 5]), array([8, 3]), array([8, 9, 3]), array([8, 4, 5]), array([9, 6, 1, 2])]\n"
     ]
    }
   ],
   "source": [
    "p1 = create_new_individual(missing_nums)\n",
    "p2 = create_new_individual(missing_nums)\n",
    "print(p1)\n",
    "print(p2)"
   ]
  },
  {
   "cell_type": "code",
   "execution_count": 18,
   "metadata": {},
   "outputs": [
    {
     "name": "stdout",
     "output_type": "stream",
     "text": [
      "3\n"
     ]
    }
   ],
   "source": [
    "# Punto de cruza aleatorio\n",
    "c = np.random.randint(1, 8)\n",
    "print(c)"
   ]
  },
  {
   "cell_type": "code",
   "execution_count": 19,
   "metadata": {},
   "outputs": [
    {
     "name": "stdout",
     "output_type": "stream",
     "text": [
      "[array([3, 2, 7]), array([1, 4]), array([4, 8, 3, 9]), array([2, 9, 3]), array([1, 4, 8, 5]), array([8, 3]), array([8, 9, 3]), array([8, 4, 5]), array([9, 6, 1, 2])]\n"
     ]
    }
   ],
   "source": [
    "def crossover(p1,p2):\n",
    "    o = []\n",
    "    c = np.random.randint(1, 8)\n",
    "    for i in range(0,c):\n",
    "        o.append( np.copy(p1[i]) )\n",
    "    for i in range(c,9):\n",
    "        o.append( np.copy(p2[i]) )\n",
    "    return o\n",
    "o = crossover(p1,p2)\n",
    "print(o)"
   ]
  },
  {
   "cell_type": "markdown",
   "metadata": {},
   "source": [
    "### Mutación\n",
    "La mutación tiene el objetivo de variar un poco un individuo. En este caso lo que haremos es elegir al azar uno de los renglones del individuo, después, también de forma aleatoria, seleccionar dos números faltantes, y lo que se realizará es intercambiar sus posiciones"
   ]
  },
  {
   "cell_type": "code",
   "execution_count": 20,
   "metadata": {},
   "outputs": [
    {
     "name": "stdout",
     "output_type": "stream",
     "text": [
      "ind [array([7, 2, 3]), array([4, 1]), array([3, 4, 8, 9]), array([9, 2, 3]), array([5, 4, 8, 1]), array([8, 3]), array([9, 3, 8]), array([5, 8, 4]), array([1, 2, 6, 9])]\n",
      "r: 1 n1: 4 n2: 1\n"
     ]
    }
   ],
   "source": [
    "ind = create_new_individual(missing_nums)\n",
    "r = np.random.randint(9)\n",
    "n1 = np.random.randint(len(ind[r]))\n",
    "n2 = np.random.randint(len(ind[r]))\n",
    "print('ind',ind)\n",
    "print('r:',r,'n1:',ind[r][n1],'n2:',ind[r][n2])"
   ]
  },
  {
   "cell_type": "code",
   "execution_count": 21,
   "metadata": {},
   "outputs": [
    {
     "name": "stdout",
     "output_type": "stream",
     "text": [
      "[array([7, 2, 3]), array([4, 1]), array([3, 4, 8, 9]), array([9, 2, 3]), array([5, 4, 8, 1]), array([8, 3]), array([9, 3, 8]), array([5, 8, 4]), array([1, 2, 6, 9])]\n",
      "r: 1 n1: 4 n2: 1\n",
      "[array([7, 2, 3]), array([1, 4]), array([3, 4, 8, 9]), array([9, 2, 3]), array([5, 4, 8, 1]), array([8, 3]), array([9, 3, 8]), array([5, 8, 4]), array([1, 2, 6, 9])]\n"
     ]
    }
   ],
   "source": [
    "def mutation(ind):\n",
    "    r = np.random.randint(9)\n",
    "    n1 = np.random.randint(len(ind[r]))\n",
    "    n2 = np.random.randint(len(ind[r]))\n",
    "    ind[r][n1], ind[r][n2] = ind[r][n2], ind[r][n1]\n",
    "    print('r:',r,'n1:',ind[r][n1],'n2:',ind[r][n2])\n",
    "    return ind\n",
    "print(ind)\n",
    "ind = mutation(ind)\n",
    "print(ind)"
   ]
  },
  {
   "cell_type": "markdown",
   "metadata": {},
   "source": [
    "### Evolución\n",
    "Finalmente, hay que unir todas las piezas de código "
   ]
  },
  {
   "cell_type": "code",
   "execution_count": 22,
   "metadata": {},
   "outputs": [
    {
     "ename": "NameError",
     "evalue": "name 'init_population' is not defined",
     "output_type": "error",
     "traceback": [
      "\u001b[1;31m---------------------------------------------------------------------------\u001b[0m",
      "\u001b[1;31mNameError\u001b[0m                                 Traceback (most recent call last)",
      "\u001b[1;32m<ipython-input-22-d68b587409cc>\u001b[0m in \u001b[0;36m<module>\u001b[1;34m\u001b[0m\n\u001b[0;32m      9\u001b[0m \u001b[1;33m\u001b[0m\u001b[0m\n\u001b[0;32m     10\u001b[0m \u001b[1;31m# Proceso evolutivo\u001b[0m\u001b[1;33m\u001b[0m\u001b[1;33m\u001b[0m\u001b[1;33m\u001b[0m\u001b[0m\n\u001b[1;32m---> 11\u001b[1;33m \u001b[0mpopulation\u001b[0m \u001b[1;33m=\u001b[0m \u001b[0minit_population\u001b[0m\u001b[1;33m(\u001b[0m\u001b[0msudoku\u001b[0m\u001b[1;33m,\u001b[0m\u001b[0mN\u001b[0m\u001b[1;33m)\u001b[0m\u001b[1;33m\u001b[0m\u001b[1;33m\u001b[0m\u001b[0m\n\u001b[0m\u001b[0;32m     12\u001b[0m \u001b[0mfitness\u001b[0m \u001b[1;33m=\u001b[0m \u001b[0mcalculate_fitness\u001b[0m\u001b[1;33m(\u001b[0m\u001b[0mpopulation\u001b[0m\u001b[1;33m)\u001b[0m\u001b[1;33m\u001b[0m\u001b[1;33m\u001b[0m\u001b[0m\n\u001b[0;32m     13\u001b[0m \u001b[0mind_elite\u001b[0m\u001b[1;33m,\u001b[0m \u001b[0mfit_elite\u001b[0m \u001b[1;33m=\u001b[0m \u001b[0melite\u001b[0m\u001b[1;33m(\u001b[0m\u001b[0mpopulation\u001b[0m\u001b[1;33m,\u001b[0m\u001b[0mfitness\u001b[0m\u001b[1;33m)\u001b[0m\u001b[1;33m\u001b[0m\u001b[1;33m\u001b[0m\u001b[0m\n",
      "\u001b[1;31mNameError\u001b[0m: name 'init_population' is not defined"
     ]
    }
   ],
   "source": [
    "# Parámetros\n",
    "N = 100    # tamaño de la población\n",
    "Pc = 0.7   # probabilidad de cruza\n",
    "Pm = 0.3   # probabilidad de mutación\n",
    "G = 1000   # número de generaciones\n",
    "\n",
    "# Leer el archivo\n",
    "sudoku = pandas.read_csv(\"sudoku.csv\", header=None).values\n",
    "\n",
    "# Proceso evolutivo\n",
    "population = init_population(sudoku,N)\n",
    "fitness = calculate_fitness(population)\n",
    "ind_elite, fit_elite = elite(population,fitness)\n",
    "\n",
    "g = 0\n",
    "print('Generation:',g,' fitness:',fit_elite)\n",
    "while fit_elite>0 and g<G:\n",
    "    population = selection(population,fitness)\n",
    "    population = crossover(population,Pc)\n",
    "    population = mutation(population,Pm)\n",
    "    fitness = calculate_fitness(population)\n",
    "    population, fitness, ind_elite, fit_elite = elite(population,fitness,ind_elite,fit_elite)\n",
    "    g+=1\n",
    "    if g%10==0:\n",
    "        print('Generation:',g,' fitness:',fit_elite)\n",
    "print('Generation:',g,' fitness:',fit_elite)\n",
    "print_individual(ind_elite)"
   ]
  },
  {
   "cell_type": "markdown",
   "metadata": {},
   "source": [
    "init_population: Crea una población de N individuos aleatorios, population es una lista de individuos."
   ]
  },
  {
   "cell_type": "markdown",
   "metadata": {},
   "source": [
    "calculate_fitness: Calcula la aptitud (fitness) de todos los individuos en la población y regresa un arreglo con el fitness de todos los individuos"
   ]
  },
  {
   "cell_type": "markdown",
   "metadata": {},
   "source": [
    "elite: Encuentra y guarda una copia del mejor individuo de la población. \n",
    "Si aún no hay ningún individuo elite (primera vez que se manda llamar), sólo regresa el individuo elite y su aptitud.\n",
    "Si ya hay un individuo elite hace lo siguiente. Si el mejor individuo en la población actual es mejor que el individuo elite, entonces el individuo elite y su fitness son actualizados. En otro caso, el individuo elite reemplaza a un individuo, seleccionado de forma aleatoria, de la población. "
   ]
  },
  {
   "cell_type": "markdown",
   "metadata": {},
   "source": [
    "selection: Recibe como parámetro la población y el arreglo de aptitudes; y regresa una nueva población de individuos aptos. Cada individuo en la nueva población es seleccionado utilizando torneo binario, es decir, dos individuos de la población anterior son seleccionados de forma aleatoria y el mejor de los dos es seleccionado para formar parte de la nueva población. El tamaño de la población nueva es del mismo tamaño que la población anterior."
   ]
  },
  {
   "cell_type": "markdown",
   "metadata": {},
   "source": [
    "crossover: Recibe como parámetro la población de individuos seleccionados y la probabilidad de cruza; y regresa una nueva población de individuos hijos. Los individuos de la nueva población son creados uno por uno como sigue. Primero, se genera un número aleatorio del 0 al 1. Si el número es menor o igual a la probabilidad de cruza, entonces el individuo nuevo es producto de la cruza de dos individuos seleccionados al azar de la población de individuos seleccionados. Si el número no es menor o igual a Pc, entonces el nuevo individuo es una copia de un individuo seleccionado al azar. "
   ]
  },
  {
   "cell_type": "markdown",
   "metadata": {},
   "source": [
    "mutation: Recibe como parámetro la población de individuos y la probabilidad de mutación; y regresa una nueva población de individuos. Los individuos de la nueva población son mutados uno por uno como sigue. Primero, se genera un número aleatorio del 0 al 1. Si el número es menor o igual a la probabilidad de mutación, entonces el individuo es mutado, si no, el individuo no se modifica."
   ]
  }
 ],
 "metadata": {
  "kernelspec": {
   "display_name": "Python 3",
   "language": "python",
   "name": "python3"
  },
  "language_info": {
   "codemirror_mode": {
    "name": "ipython",
    "version": 3
   },
   "file_extension": ".py",
   "mimetype": "text/x-python",
   "name": "python",
   "nbconvert_exporter": "python",
   "pygments_lexer": "ipython3",
   "version": "3.7.3"
  }
 },
 "nbformat": 4,
 "nbformat_minor": 2
}
