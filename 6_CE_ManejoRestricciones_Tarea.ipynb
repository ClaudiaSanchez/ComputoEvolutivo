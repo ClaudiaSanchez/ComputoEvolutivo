{
 "cells": [
  {
   "cell_type": "markdown",
   "metadata": {},
   "source": [
    "# Algoritmo Evolutivo para la optimización de los parámetros en un problema de Aprendizaje Computacional"
   ]
  },
  {
   "cell_type": "markdown",
   "metadata": {},
   "source": [
    "Problema de los dígitos"
   ]
  },
  {
   "cell_type": "code",
   "execution_count": null,
   "metadata": {},
   "outputs": [],
   "source": [
    "import numpy as np\n",
    "from sklearn.datasets import load_digits\n",
    "\n",
    "X,Y = load_digits(n_class=10, return_X_y=True)\n",
    "print(X.shape)\n",
    "print(len(Y))"
   ]
  },
  {
   "cell_type": "code",
   "execution_count": null,
   "metadata": {},
   "outputs": [],
   "source": [
    "import matplotlib.pyplot as plt\n",
    "\n",
    "def print_image( sample,y ):\n",
    "    img = np.reshape(sample,(8,8))\n",
    "    print('Digit',y)\n",
    "    plt.imshow(img, cmap = 'Greys')\n",
    "    plt.show()\n",
    "\n",
    "index = 198\n",
    "print_image(X[index,:],Y[index])\n",
    "print(np.unique(Y,return_counts=True))"
   ]
  },
  {
   "cell_type": "markdown",
   "metadata": {},
   "source": [
    "## Clasificación"
   ]
  },
  {
   "cell_type": "code",
   "execution_count": null,
   "metadata": {},
   "outputs": [],
   "source": [
    "from sklearn.model_selection import train_test_split\n",
    "\n",
    "Xtrain, Xtest, Ytrain, Ytest = train_test_split( X, Y, test_size=0.30, random_state=0)\n",
    "print('Train:',Xtrain.shape,len(Ytrain))\n",
    "print('Test:',Xtest.shape,len(Ytest))"
   ]
  },
  {
   "cell_type": "code",
   "execution_count": null,
   "metadata": {},
   "outputs": [],
   "source": [
    "from sklearn.neural_network import MLPClassifier\n",
    "from sklearn.tree import DecisionTreeClassifier\n",
    "from sklearn.neighbors import KNeighborsClassifier\n",
    "from sklearn.svm import SVC\n",
    "from sklearn.metrics import accuracy_score\n",
    "\n",
    "model = KNeighborsClassifier(  )\n",
    "model.fit(Xtrain,Ytrain)\n",
    "Yc = model.predict(Xtest)\n",
    "print(accuracy_score(Ytest,Yc))\n"
   ]
  },
  {
   "cell_type": "markdown",
   "metadata": {},
   "source": [
    "# Solución con un algoritmo evolutivo"
   ]
  },
  {
   "cell_type": "markdown",
   "metadata": {},
   "source": [
    "Configuración"
   ]
  },
  {
   "cell_type": "code",
   "execution_count": null,
   "metadata": {},
   "outputs": [],
   "source": [
    "import sklearn\n",
    "models = {\n",
    "    'sklearn.tree.DecisionTreeClassifier': {\n",
    "        'integer_parameters':{\n",
    "            'max_depth': [5, 100]\n",
    "        },\n",
    "        'continuous_parameters':{ },\n",
    "        'discrete_parameters':{\n",
    "            'criterion': [\"gini\", \"entropy\"]\n",
    "        }        \n",
    "    },\n",
    "    'sklearn.neighbors.KNeighborsClassifier': {\n",
    "        'integer_parameters':{\n",
    "            'n_neighbors': [1, 20]\n",
    "        },\n",
    "        'continuous_parameters':{  },\n",
    "        'discrete_parameters':{\n",
    "            'weights': [\"uniform\", \"distance\"],\n",
    "            'p': [1, 2]\n",
    "        }\n",
    "        \n",
    "    },\n",
    "    'sklearn.svm.SVC': {\n",
    "        'integer_parameters':{  },\n",
    "        'continuous_parameters':{\n",
    "            'C': [1e-4, 25.]\n",
    "        },\n",
    "        'discrete_parameters':{\n",
    "            'kernel':['linear','poly','rbf','sigmoid']\n",
    "        }\n",
    "    },\n",
    "    'sklearn.neural_network.MLPClassifier':{\n",
    "        'integer_parameters':{\n",
    "            'hidden_layer_sizes': [1,200] #(100,)\n",
    "        },\n",
    "        'continuous_parameters':{ },\n",
    "        'discrete_parameters':{\n",
    "            'activation':['relu','identity','logistic','tanh']\n",
    "        }\n",
    "    }\n",
    "\n",
    "}"
   ]
  },
  {
   "cell_type": "markdown",
   "metadata": {},
   "source": [
    "## Representación de los individuos"
   ]
  },
  {
   "cell_type": "code",
   "execution_count": null,
   "metadata": {},
   "outputs": [],
   "source": [
    "individual = ['sklearn.svm.SVC',['C','kernel'],[1.0,'linear'],['continuous','discrete']]\n",
    "\n",
    "smodel = individual[0]+'('\n",
    "for i in range(len(individual[1])):\n",
    "    if isinstance(individual[2][i],str):\n",
    "        smodel+=individual[1][i]+'='+\"'\"+individual[2][i]+\"'\"\n",
    "    else:\n",
    "        smodel+=individual[1][i]+'='+str(individual[2][i])\n",
    "    smodel+=','\n",
    "smodel=smodel[:-1]+')'\n",
    "print(smodel)"
   ]
  },
  {
   "cell_type": "code",
   "execution_count": null,
   "metadata": {},
   "outputs": [],
   "source": [
    "program = \"import sklearn \\n\"\n",
    "program+= \"model = \"+smodel +\"\\n\"\n",
    "print(program)\n",
    "\n",
    "d = {}\n",
    "exec(program,d)\n",
    "model = d['model']\n",
    "\n",
    "print(model)\n",
    "model.fit(Xtrain,Ytrain)\n",
    "Yc = model.predict(Xtest)\n",
    "acc = accuracy_score(Ytest,Yc)\n",
    "print(acc)"
   ]
  },
  {
   "cell_type": "markdown",
   "metadata": {},
   "source": [
    "## Cálculo de la aptitud"
   ]
  },
  {
   "cell_type": "code",
   "execution_count": null,
   "metadata": {},
   "outputs": [],
   "source": [
    "def fitness_individual(individual):\n",
    "    smodel = individual[0]+'('\n",
    "    for i in range(len(individual[1])):\n",
    "        if isinstance(individual[2][i],str):\n",
    "            smodel+=individual[1][i]+'='+\"'\"+individual[2][i]+\"'\"\n",
    "        else:\n",
    "            smodel+=individual[1][i]+'='+str(individual[2][i])\n",
    "        smodel+=','\n",
    "    smodel=smodel[:-1]+')'\n",
    "\n",
    "    program = \"import sklearn \\n\"\n",
    "    program+= \"model = \"+smodel +\"\\n\"\n",
    "    d = {}\n",
    "    exec(program,d)\n",
    "    model = d['model']\n",
    "    model.fit(Xtrain,Ytrain)\n",
    "    Yc = model.predict(Xtest)\n",
    "    acc = accuracy_score(Ytest,Yc)\n",
    "    return acc\n",
    "\n",
    "#individual = ['sklearn.neighbors.KNeighborsClassifier',['n_neighbors','weights','p'],[20,'uniform',2]]\n",
    "individual = ['sklearn.svm.SVC',['C','kernel'],[1.0,'linear']]\n",
    "fit = fitness_individual(individual)\n",
    "print('fitness:',fit)\n"
   ]
  },
  {
   "cell_type": "markdown",
   "metadata": {},
   "source": [
    "## Población inicial"
   ]
  },
  {
   "cell_type": "markdown",
   "metadata": {},
   "source": [
    "Obtener los valores de la configuración de los modelos"
   ]
  },
  {
   "cell_type": "code",
   "execution_count": null,
   "metadata": {},
   "outputs": [],
   "source": [
    "nmodels = len(models)\n",
    "print('keys:',models.keys() )\n",
    "print('keys list:',list( models.keys() ) )\n",
    "print()\n",
    "\n",
    "classifier = list( models.keys())[ np.random.randint(nmodels)  ] \n",
    "print('Random element:',classifier)\n",
    "print()\n",
    "\n",
    "print('  Integer parameters:', list(models[classifier]['integer_parameters'].keys()) )\n",
    "print('  Continuous parameters:', list(models[classifier]['continuous_parameters'].keys()) )\n",
    "print('  Discrete parameters:', list(models[classifier]['discrete_parameters'].keys()) )           "
   ]
  },
  {
   "cell_type": "code",
   "execution_count": null,
   "metadata": {},
   "outputs": [],
   "source": [
    "for parameter in list(models[classifier]['integer_parameters'].keys()):\n",
    "    values = models[classifier]['integer_parameters'][parameter]\n",
    "    print(parameter,'-', values)\n",
    "    \n",
    "for parameter in list(models[classifier]['continuous_parameters'].keys()):\n",
    "    values = models[classifier]['continuous_parameters'][parameter]\n",
    "    print(parameter,'-', values)\n",
    "    \n",
    "for parameter in list(models[classifier]['discrete_parameters'].keys()):\n",
    "    values = models[classifier]['discrete_parameters'][parameter]\n",
    "    print(parameter,'-', values)\n",
    "    "
   ]
  },
  {
   "cell_type": "markdown",
   "metadata": {},
   "source": [
    "Crear un individuo aleatorio"
   ]
  },
  {
   "cell_type": "code",
   "execution_count": null,
   "metadata": {},
   "outputs": [],
   "source": [
    "def random_individual(models):\n",
    "    classifier = list( models.keys())[ np.random.randint(len(models))  ]\n",
    "    individual = [ classifier ] \n",
    "    parameters_names = []\n",
    "    parameters_values = []\n",
    "    parameters_types = []\n",
    "    \n",
    "    for parameter in list(models[classifier]['integer_parameters'].keys()):\n",
    "        values = models[classifier]['integer_parameters'][parameter]\n",
    "        parameters_names.append(parameter)\n",
    "        parameters_values.append( np.random.randint(values[0],values[1]+1))\n",
    "        parameters_types.append( 'integer' )\n",
    "        \n",
    "    for parameter in list(models[classifier]['continuous_parameters'].keys()):\n",
    "        values = models[classifier]['continuous_parameters'][parameter]\n",
    "        parameters_names.append(parameter)\n",
    "        parameters_values.append( np.random.uniform(values[0],values[1]))\n",
    "        parameters_types.append( 'continuous' )\n",
    "    \n",
    "    for parameter in list(models[classifier]['discrete_parameters'].keys()):\n",
    "        values = models[classifier]['discrete_parameters'][parameter]\n",
    "        parameters_names.append(parameter)\n",
    "        parameters_values.append( values[np.random.randint(len(values))])\n",
    "        parameters_types.append( 'discrete' )\n",
    "    \n",
    "    individual.append(parameters_names)\n",
    "    individual.append(parameters_values)\n",
    "    individual.append(parameters_types)\n",
    "    return individual\n",
    "\n",
    "individual = random_individual(models)\n",
    "print(individual)\n"
   ]
  },
  {
   "cell_type": "code",
   "execution_count": null,
   "metadata": {},
   "outputs": [],
   "source": [
    "def initial_population(N,models):\n",
    "    population = []\n",
    "    for i in range(N):\n",
    "        population.append(random_individual(models))\n",
    "    return population\n",
    "\n",
    "N = 5\n",
    "population = initial_population(N,models)\n",
    "print(population)\n",
    "fitness = [ fitness_individual(ind) for ind in population ]\n",
    "print(fitness)"
   ]
  },
  {
   "cell_type": "markdown",
   "metadata": {},
   "source": [
    "## Mutation"
   ]
  },
  {
   "cell_type": "code",
   "execution_count": null,
   "metadata": {},
   "outputs": [],
   "source": [
    "def mutation(ind):\n",
    "    pass  \n",
    "    return nind    "
   ]
  },
  {
   "cell_type": "markdown",
   "metadata": {},
   "source": [
    "## Selection"
   ]
  },
  {
   "cell_type": "code",
   "execution_count": null,
   "metadata": {},
   "outputs": [],
   "source": [
    "def tournament(population,fitness,tournament_size = 2,negative=False):\n",
    "    idx = []\n",
    "    fit = []\n",
    "    for t in range(tournament_size):\n",
    "        i = np.random.randint( len(population) )\n",
    "        idx.append(i)\n",
    "        fit.append(fitness[i])\n",
    "    if negative:\n",
    "        m = np.argmin(fit)\n",
    "        return idx[m]\n",
    "    else:\n",
    "        m = np.argmax( fit )\n",
    "        m = idx[m]\n",
    "        return population[m],fitness[m]"
   ]
  },
  {
   "cell_type": "code",
   "execution_count": null,
   "metadata": {},
   "outputs": [],
   "source": [
    "import warnings\n",
    "warnings.filterwarnings(\"ignore\")"
   ]
  },
  {
   "cell_type": "code",
   "execution_count": null,
   "metadata": {},
   "outputs": [],
   "source": [
    "N = 10\n",
    "K = 50\n",
    "population = initial_population(N,models)\n",
    "fitness = [ fitness_individual(ind) for ind in population ]\n",
    "elite = np.argmax(fitness)\n",
    "print(0, fitness[elite],population[elite])\n",
    "\n",
    "for k in range(1,K+1):\n",
    "    ind,fit = tournament(population,fitness)\n",
    "    indm = mutation(ind)\n",
    "    fitm = fitness_individual(indm)\n",
    "    \n",
    "    i = tournament(population,fitness,negative=True)\n",
    "    population[i] = indm\n",
    "    fitness[i] = fitm\n",
    "    \n",
    "    # Print\n",
    "    print('\\n')\n",
    "    elite = np.argmax(fitness)\n",
    "    print(k, fitness[elite],population[elite])\n",
    "    for i in range(N):\n",
    "        print('  ',i,fitness[i],population[i][0])\n",
    "print('\\n')\n",
    "print('Best program')\n",
    "print(fitness[elite],population[elite])\n"
   ]
  }
 ],
 "metadata": {
  "kernelspec": {
   "display_name": "Python 3",
   "language": "python",
   "name": "python3"
  },
  "language_info": {
   "codemirror_mode": {
    "name": "ipython",
    "version": 3
   },
   "file_extension": ".py",
   "mimetype": "text/x-python",
   "name": "python",
   "nbconvert_exporter": "python",
   "pygments_lexer": "ipython3",
   "version": "3.7.3"
  }
 },
 "nbformat": 4,
 "nbformat_minor": 2
}
